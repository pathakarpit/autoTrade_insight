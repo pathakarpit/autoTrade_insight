{
 "cells": [
  {
   "cell_type": "code",
   "execution_count": 1,
   "id": "ce646cb5-5c00-4c29-8904-52320818715e",
   "metadata": {},
   "outputs": [],
   "source": [
    "import pandas as pd\n",
    "import numpy as np\n",
    "import yfinance as yf\n",
    "from datetime import datetime, timedelta\n",
    "import psycopg2\n",
    "import json"
   ]
  },
  {
   "cell_type": "code",
   "execution_count": 2,
   "id": "773fd7f5-691f-41a4-a2ea-ca12a2d3500b",
   "metadata": {},
   "outputs": [],
   "source": [
    "def get_today_data(search_symbol):\n",
    "    today = datetime.now()\n",
    "    yesterday = today - timedelta(days=1)\n",
    "    start_date = yesterday.strftime('%Y-%m-%d')\n",
    "    end_date = today.strftime('%Y-%m-%d')\n",
    "    stock_data = yf.download(search_symbol, start = start_date, end = end_date).reset_index()\n",
    "    return stock_data"
   ]
  },
  {
   "cell_type": "code",
   "execution_count": 3,
   "id": "a6e3a66a-b2a0-4dfb-aa03-02c7d024fbd5",
   "metadata": {},
   "outputs": [],
   "source": [
    "def get_old_data(search_symbol):\n",
    "    today = datetime.now()\n",
    "    old = today - timedelta(days=730)\n",
    "    start_date = old.strftime('%Y-%m-%d')\n",
    "    end_date = today.strftime('%Y-%m-%d')\n",
    "    stock_data = yf.download(search_symbol, start = start_date, end = end_date).reset_index()\n",
    "    return stock_data"
   ]
  },
  {
   "cell_type": "code",
   "execution_count": 4,
   "id": "b6c9937e-e445-4801-ba6a-a92ffd5748f9",
   "metadata": {},
   "outputs": [],
   "source": [
    "with open('sql_cred.json') as f:\n",
    "    credentials = json.load(f)\n",
    "\n",
    "connection = psycopg2.connect(\n",
    "    dbname=credentials['dbname'],\n",
    "    user=credentials['user'],\n",
    "    password=credentials['password'],\n",
    "    host=credentials['host'],\n",
    "    port=credentials['port']\n",
    ")\n",
    "cursor = connection.cursor()\n",
    "#connection.rollback()"
   ]
  },
  {
   "cell_type": "code",
   "execution_count": 5,
   "id": "62f7f833-75f6-422b-8811-1967583a506c",
   "metadata": {},
   "outputs": [],
   "source": [
    "stock_list = pd.read_csv('Stocks_list.csv')\n",
    "stock_list['search_symbol'] = stock_list.apply(lambda row: row['stock_symbol'] + ('.NS' if row['exchange'] == 'NSE' else '.BO'), axis=1)"
   ]
  },
  {
   "cell_type": "code",
   "execution_count": 6,
   "id": "fc8cf719-8544-448c-a8cc-120d061297bf",
   "metadata": {},
   "outputs": [
    {
     "data": {
      "text/plain": [
       "Index(['stock_name', 'stock_symbol', 'exchange', 'sector', 'search_symbol'], dtype='object')"
      ]
     },
     "execution_count": 6,
     "metadata": {},
     "output_type": "execute_result"
    }
   ],
   "source": [
    "stock_list.columns"
   ]
  },
  {
   "cell_type": "code",
   "execution_count": 7,
   "id": "490e789b-2dd1-4a82-87fd-5b67422672d4",
   "metadata": {},
   "outputs": [],
   "source": [
    "create_stock_list_table = f\"\"\"\n",
    "CREATE TABLE IF NOT EXISTS \"stock_list\"(\n",
    "    stock_name VARCHAR(70),\n",
    "    stock_symbol VARCHAR(15),\n",
    "    exchange VARCHAR(5),\n",
    "    sector VARCHAR(30),\n",
    "    UNIQUE (stock_symbol)\n",
    "    );\n",
    "\"\"\"\n",
    "cursor.execute(create_stock_list_table)\n",
    "for index, row in stock_list.iterrows():\n",
    "    insert_query = f\"\"\"\n",
    "        INSERT INTO \"stock_list\" (stock_name,stock_symbol, exchange, sector)\n",
    "        VALUES (%s, %s, %s, %s)\n",
    "        ON CONFLICT (stock_symbol) DO NOTHING;  -- Avoid inserting duplicates\n",
    "        \"\"\"\n",
    "    cursor.execute(insert_query, (row['stock_name'], row['stock_symbol'], row['exchange'], row['sector']))"
   ]
  },
  {
   "cell_type": "markdown",
   "id": "be86bc83-f97c-43c3-babd-bf8eefff979b",
   "metadata": {},
   "source": [
    "for index, row in stock_list.iterrows():\n",
    "    stock_symbol = row.iloc[1]\n",
    "    search_symbol = row.iloc[4]\n",
    "    create_relevant_table = f'drop table if exists \"{str(stock_symbol)}_fin\"; '\n",
    "    cursor.execute(create_relevant_table)"
   ]
  },
  {
   "cell_type": "code",
   "execution_count": 8,
   "id": "5b003999-438b-4538-a307-cfef3a6cb9a2",
   "metadata": {},
   "outputs": [
    {
     "name": "stdout",
     "output_type": "stream",
     "text": [
      "[*********************100%%**********************]  1 of 1 completed"
     ]
    },
    {
     "name": "stderr",
     "output_type": "stream",
     "text": [
      "/home/sunny/anaconda3/envs/autoTrade/lib/python3.12/site-packages/yfinance/utils.py:771: FutureWarning: The 'unit' keyword in TimedeltaIndex construction is deprecated and will be removed in a future version. Use pd.to_timedelta instead.\n",
      "  df.index += _pd.TimedeltaIndex(dst_error_hours, 'h')\n"
     ]
    },
    {
     "name": "stdout",
     "output_type": "stream",
     "text": [
      "\n",
      "[*********************100%%**********************]  1 of 1 completed"
     ]
    },
    {
     "name": "stderr",
     "output_type": "stream",
     "text": [
      "/home/sunny/anaconda3/envs/autoTrade/lib/python3.12/site-packages/yfinance/utils.py:771: FutureWarning: The 'unit' keyword in TimedeltaIndex construction is deprecated and will be removed in a future version. Use pd.to_timedelta instead.\n",
      "  df.index += _pd.TimedeltaIndex(dst_error_hours, 'h')\n"
     ]
    },
    {
     "name": "stdout",
     "output_type": "stream",
     "text": [
      "\n",
      "[*********************100%%**********************]  1 of 1 completed"
     ]
    },
    {
     "name": "stderr",
     "output_type": "stream",
     "text": [
      "/home/sunny/anaconda3/envs/autoTrade/lib/python3.12/site-packages/yfinance/utils.py:771: FutureWarning: The 'unit' keyword in TimedeltaIndex construction is deprecated and will be removed in a future version. Use pd.to_timedelta instead.\n",
      "  df.index += _pd.TimedeltaIndex(dst_error_hours, 'h')\n"
     ]
    },
    {
     "name": "stdout",
     "output_type": "stream",
     "text": [
      "\n",
      "[*********************100%%**********************]  1 of 1 completed"
     ]
    },
    {
     "name": "stderr",
     "output_type": "stream",
     "text": [
      "/home/sunny/anaconda3/envs/autoTrade/lib/python3.12/site-packages/yfinance/utils.py:771: FutureWarning: The 'unit' keyword in TimedeltaIndex construction is deprecated and will be removed in a future version. Use pd.to_timedelta instead.\n",
      "  df.index += _pd.TimedeltaIndex(dst_error_hours, 'h')\n"
     ]
    },
    {
     "name": "stdout",
     "output_type": "stream",
     "text": [
      "\n",
      "[*********************100%%**********************]  1 of 1 completed"
     ]
    },
    {
     "name": "stderr",
     "output_type": "stream",
     "text": [
      "/home/sunny/anaconda3/envs/autoTrade/lib/python3.12/site-packages/yfinance/utils.py:771: FutureWarning: The 'unit' keyword in TimedeltaIndex construction is deprecated and will be removed in a future version. Use pd.to_timedelta instead.\n",
      "  df.index += _pd.TimedeltaIndex(dst_error_hours, 'h')\n"
     ]
    },
    {
     "name": "stdout",
     "output_type": "stream",
     "text": [
      "\n",
      "[*********************100%%**********************]  1 of 1 completed"
     ]
    },
    {
     "name": "stderr",
     "output_type": "stream",
     "text": [
      "/home/sunny/anaconda3/envs/autoTrade/lib/python3.12/site-packages/yfinance/utils.py:771: FutureWarning: The 'unit' keyword in TimedeltaIndex construction is deprecated and will be removed in a future version. Use pd.to_timedelta instead.\n",
      "  df.index += _pd.TimedeltaIndex(dst_error_hours, 'h')\n"
     ]
    },
    {
     "name": "stdout",
     "output_type": "stream",
     "text": [
      "\n",
      "[*********************100%%**********************]  1 of 1 completed"
     ]
    },
    {
     "name": "stderr",
     "output_type": "stream",
     "text": [
      "/home/sunny/anaconda3/envs/autoTrade/lib/python3.12/site-packages/yfinance/utils.py:771: FutureWarning: The 'unit' keyword in TimedeltaIndex construction is deprecated and will be removed in a future version. Use pd.to_timedelta instead.\n",
      "  df.index += _pd.TimedeltaIndex(dst_error_hours, 'h')\n"
     ]
    },
    {
     "name": "stdout",
     "output_type": "stream",
     "text": [
      "\n",
      "[*********************100%%**********************]  1 of 1 completed"
     ]
    },
    {
     "name": "stderr",
     "output_type": "stream",
     "text": [
      "/home/sunny/anaconda3/envs/autoTrade/lib/python3.12/site-packages/yfinance/utils.py:771: FutureWarning: The 'unit' keyword in TimedeltaIndex construction is deprecated and will be removed in a future version. Use pd.to_timedelta instead.\n",
      "  df.index += _pd.TimedeltaIndex(dst_error_hours, 'h')\n"
     ]
    },
    {
     "name": "stdout",
     "output_type": "stream",
     "text": [
      "\n",
      "[*********************100%%**********************]  1 of 1 completed"
     ]
    },
    {
     "name": "stderr",
     "output_type": "stream",
     "text": [
      "/home/sunny/anaconda3/envs/autoTrade/lib/python3.12/site-packages/yfinance/utils.py:771: FutureWarning: The 'unit' keyword in TimedeltaIndex construction is deprecated and will be removed in a future version. Use pd.to_timedelta instead.\n",
      "  df.index += _pd.TimedeltaIndex(dst_error_hours, 'h')\n"
     ]
    },
    {
     "name": "stdout",
     "output_type": "stream",
     "text": [
      "\n",
      "[*********************100%%**********************]  1 of 1 completed"
     ]
    },
    {
     "name": "stderr",
     "output_type": "stream",
     "text": [
      "/home/sunny/anaconda3/envs/autoTrade/lib/python3.12/site-packages/yfinance/utils.py:771: FutureWarning: The 'unit' keyword in TimedeltaIndex construction is deprecated and will be removed in a future version. Use pd.to_timedelta instead.\n",
      "  df.index += _pd.TimedeltaIndex(dst_error_hours, 'h')\n"
     ]
    },
    {
     "name": "stdout",
     "output_type": "stream",
     "text": [
      "\n",
      "[*********************100%%**********************]  1 of 1 completed"
     ]
    },
    {
     "name": "stderr",
     "output_type": "stream",
     "text": [
      "/home/sunny/anaconda3/envs/autoTrade/lib/python3.12/site-packages/yfinance/utils.py:771: FutureWarning: The 'unit' keyword in TimedeltaIndex construction is deprecated and will be removed in a future version. Use pd.to_timedelta instead.\n",
      "  df.index += _pd.TimedeltaIndex(dst_error_hours, 'h')\n"
     ]
    },
    {
     "name": "stdout",
     "output_type": "stream",
     "text": [
      "\n",
      "[*********************100%%**********************]  1 of 1 completed"
     ]
    },
    {
     "name": "stderr",
     "output_type": "stream",
     "text": [
      "/home/sunny/anaconda3/envs/autoTrade/lib/python3.12/site-packages/yfinance/utils.py:771: FutureWarning: The 'unit' keyword in TimedeltaIndex construction is deprecated and will be removed in a future version. Use pd.to_timedelta instead.\n",
      "  df.index += _pd.TimedeltaIndex(dst_error_hours, 'h')\n"
     ]
    },
    {
     "name": "stdout",
     "output_type": "stream",
     "text": [
      "\n",
      "[*********************100%%**********************]  1 of 1 completed"
     ]
    },
    {
     "name": "stderr",
     "output_type": "stream",
     "text": [
      "/home/sunny/anaconda3/envs/autoTrade/lib/python3.12/site-packages/yfinance/utils.py:771: FutureWarning: The 'unit' keyword in TimedeltaIndex construction is deprecated and will be removed in a future version. Use pd.to_timedelta instead.\n",
      "  df.index += _pd.TimedeltaIndex(dst_error_hours, 'h')\n"
     ]
    },
    {
     "name": "stdout",
     "output_type": "stream",
     "text": [
      "\n",
      "[*********************100%%**********************]  1 of 1 completed"
     ]
    },
    {
     "name": "stderr",
     "output_type": "stream",
     "text": [
      "/home/sunny/anaconda3/envs/autoTrade/lib/python3.12/site-packages/yfinance/utils.py:771: FutureWarning: The 'unit' keyword in TimedeltaIndex construction is deprecated and will be removed in a future version. Use pd.to_timedelta instead.\n",
      "  df.index += _pd.TimedeltaIndex(dst_error_hours, 'h')\n"
     ]
    },
    {
     "name": "stdout",
     "output_type": "stream",
     "text": [
      "\n",
      "[*********************100%%**********************]  1 of 1 completed"
     ]
    },
    {
     "name": "stderr",
     "output_type": "stream",
     "text": [
      "/home/sunny/anaconda3/envs/autoTrade/lib/python3.12/site-packages/yfinance/utils.py:771: FutureWarning: The 'unit' keyword in TimedeltaIndex construction is deprecated and will be removed in a future version. Use pd.to_timedelta instead.\n",
      "  df.index += _pd.TimedeltaIndex(dst_error_hours, 'h')\n"
     ]
    },
    {
     "name": "stdout",
     "output_type": "stream",
     "text": [
      "\n",
      "[*********************100%%**********************]  1 of 1 completed"
     ]
    },
    {
     "name": "stderr",
     "output_type": "stream",
     "text": [
      "/home/sunny/anaconda3/envs/autoTrade/lib/python3.12/site-packages/yfinance/utils.py:771: FutureWarning: The 'unit' keyword in TimedeltaIndex construction is deprecated and will be removed in a future version. Use pd.to_timedelta instead.\n",
      "  df.index += _pd.TimedeltaIndex(dst_error_hours, 'h')\n"
     ]
    },
    {
     "name": "stdout",
     "output_type": "stream",
     "text": [
      "\n",
      "[*********************100%%**********************]  1 of 1 completed"
     ]
    },
    {
     "name": "stderr",
     "output_type": "stream",
     "text": [
      "/home/sunny/anaconda3/envs/autoTrade/lib/python3.12/site-packages/yfinance/utils.py:771: FutureWarning: The 'unit' keyword in TimedeltaIndex construction is deprecated and will be removed in a future version. Use pd.to_timedelta instead.\n",
      "  df.index += _pd.TimedeltaIndex(dst_error_hours, 'h')\n"
     ]
    },
    {
     "name": "stdout",
     "output_type": "stream",
     "text": [
      "\n",
      "[*********************100%%**********************]  1 of 1 completed"
     ]
    },
    {
     "name": "stderr",
     "output_type": "stream",
     "text": [
      "/home/sunny/anaconda3/envs/autoTrade/lib/python3.12/site-packages/yfinance/utils.py:771: FutureWarning: The 'unit' keyword in TimedeltaIndex construction is deprecated and will be removed in a future version. Use pd.to_timedelta instead.\n",
      "  df.index += _pd.TimedeltaIndex(dst_error_hours, 'h')\n"
     ]
    },
    {
     "name": "stdout",
     "output_type": "stream",
     "text": [
      "\n",
      "[*********************100%%**********************]  1 of 1 completed"
     ]
    },
    {
     "name": "stderr",
     "output_type": "stream",
     "text": [
      "/home/sunny/anaconda3/envs/autoTrade/lib/python3.12/site-packages/yfinance/utils.py:771: FutureWarning: The 'unit' keyword in TimedeltaIndex construction is deprecated and will be removed in a future version. Use pd.to_timedelta instead.\n",
      "  df.index += _pd.TimedeltaIndex(dst_error_hours, 'h')\n"
     ]
    },
    {
     "name": "stdout",
     "output_type": "stream",
     "text": [
      "\n",
      "[*********************100%%**********************]  1 of 1 completed"
     ]
    },
    {
     "name": "stderr",
     "output_type": "stream",
     "text": [
      "/home/sunny/anaconda3/envs/autoTrade/lib/python3.12/site-packages/yfinance/utils.py:771: FutureWarning: The 'unit' keyword in TimedeltaIndex construction is deprecated and will be removed in a future version. Use pd.to_timedelta instead.\n",
      "  df.index += _pd.TimedeltaIndex(dst_error_hours, 'h')\n"
     ]
    },
    {
     "name": "stdout",
     "output_type": "stream",
     "text": [
      "\n",
      "[*********************100%%**********************]  1 of 1 completed"
     ]
    },
    {
     "name": "stderr",
     "output_type": "stream",
     "text": [
      "/home/sunny/anaconda3/envs/autoTrade/lib/python3.12/site-packages/yfinance/utils.py:771: FutureWarning: The 'unit' keyword in TimedeltaIndex construction is deprecated and will be removed in a future version. Use pd.to_timedelta instead.\n",
      "  df.index += _pd.TimedeltaIndex(dst_error_hours, 'h')\n"
     ]
    },
    {
     "name": "stdout",
     "output_type": "stream",
     "text": [
      "\n",
      "[*********************100%%**********************]  1 of 1 completed"
     ]
    },
    {
     "name": "stderr",
     "output_type": "stream",
     "text": [
      "/home/sunny/anaconda3/envs/autoTrade/lib/python3.12/site-packages/yfinance/utils.py:771: FutureWarning: The 'unit' keyword in TimedeltaIndex construction is deprecated and will be removed in a future version. Use pd.to_timedelta instead.\n",
      "  df.index += _pd.TimedeltaIndex(dst_error_hours, 'h')\n"
     ]
    },
    {
     "name": "stdout",
     "output_type": "stream",
     "text": [
      "\n",
      "[*********************100%%**********************]  1 of 1 completed"
     ]
    },
    {
     "name": "stderr",
     "output_type": "stream",
     "text": [
      "/home/sunny/anaconda3/envs/autoTrade/lib/python3.12/site-packages/yfinance/utils.py:771: FutureWarning: The 'unit' keyword in TimedeltaIndex construction is deprecated and will be removed in a future version. Use pd.to_timedelta instead.\n",
      "  df.index += _pd.TimedeltaIndex(dst_error_hours, 'h')\n"
     ]
    },
    {
     "name": "stdout",
     "output_type": "stream",
     "text": [
      "\n",
      "[*********************100%%**********************]  1 of 1 completed\n"
     ]
    },
    {
     "name": "stderr",
     "output_type": "stream",
     "text": [
      "/home/sunny/anaconda3/envs/autoTrade/lib/python3.12/site-packages/yfinance/utils.py:771: FutureWarning: The 'unit' keyword in TimedeltaIndex construction is deprecated and will be removed in a future version. Use pd.to_timedelta instead.\n",
      "  df.index += _pd.TimedeltaIndex(dst_error_hours, 'h')\n"
     ]
    }
   ],
   "source": [
    "for index, row in stock_list.iterrows():\n",
    "    stock_symbol = row.iloc[1]\n",
    "    search_symbol = row.iloc[4]\n",
    "    create_relevant_table = f\"\"\"\n",
    "    CREATE TABLE IF NOT EXISTS \"{str(stock_symbol)}_fin\" (\n",
    "        date DATE,\n",
    "        symbol VARCHAR(20),\n",
    "        open DECIMAL(10, 2),\n",
    "        high DECIMAL(10, 2),\n",
    "        low DECIMAL(10, 2),\n",
    "        close DECIMAL(10, 2),\n",
    "        adj_close DECIMAL(10, 2),\n",
    "        volume BIGINT,\n",
    "        UNIQUE (date)\n",
    "    );\n",
    "    \n",
    "    ALTER TABLE \"{str(stock_symbol)}_fin\" OWNER TO sunny;\n",
    "    \"\"\"\n",
    "    \n",
    "    cursor.execute(create_relevant_table)\n",
    "    data = get_old_data(search_symbol)\n",
    "    for index, row in data.iterrows():\n",
    "        insert_query = f\"\"\"\n",
    "        INSERT INTO \"{str(stock_symbol)}_fin\" (date,symbol, open, high, low, close, adj_close, volume)\n",
    "        VALUES (%s, %s, %s, %s, %s, %s, %s, %s)\n",
    "        ON CONFLICT (date) DO NOTHING;  -- Avoid inserting duplicates\n",
    "        \"\"\"\n",
    "        cursor.execute(insert_query, (row['Date'],stock_symbol, row['Open'], row['High'], row['Low'], row['Close'], row['Adj Close'], row['Volume']))"
   ]
  },
  {
   "cell_type": "code",
   "execution_count": 9,
   "id": "106cc6b7-ed65-461e-bafb-ee508a5b5ed2",
   "metadata": {
    "scrolled": true
   },
   "outputs": [],
   "source": [
    "connection.commit()\n",
    "cursor.close()\n",
    "connection.close()"
   ]
  },
  {
   "cell_type": "code",
   "execution_count": 17,
   "id": "638b4d48-c13b-4684-9bb9-9b24b412e833",
   "metadata": {},
   "outputs": [],
   "source": [
    "import requests\n",
    "import pandas as pd\n",
    "from io import StringIO"
   ]
  },
  {
   "cell_type": "code",
   "execution_count": 18,
   "id": "35d99781-e40b-4cb8-9a63-a8a1d64040c1",
   "metadata": {},
   "outputs": [],
   "source": [
    "sheet_url = \"https://docs.google.com/spreadsheets/d/e/2PACX-1vR1hX501C2zCJxNBrNw3ZhRmKgi3YmEGtajMSTUmPcXuDkVDVh5TZ9ZAVr8MsYJ3YC-SOpIicOfmtn5/pub?gid=0&single=true&output=csv\"\n",
    "# Download the CSV file content\n",
    "response = requests.get(sheet_url)"
   ]
  },
  {
   "cell_type": "code",
   "execution_count": 19,
   "id": "f1ce68a4-8d62-4817-abd8-f6dbf7b77bce",
   "metadata": {},
   "outputs": [
    {
     "name": "stdout",
     "output_type": "stream",
     "text": [
      "                      stock_name stock_symbol exchange                  sector\n",
      "0  Tata Consultancy Services Ltd          TCS      NSE  Software & IT Services\n",
      "1                    Infosys Ltd         INFY      NSE  Software & IT Services\n",
      "2           HCL Technologies Ltd      HCLTECH      NSE  Software & IT Services\n",
      "3                  HDFC Bank Ltd     HDFCBANK      NSE                   Banks\n",
      "4                 ICICI Bank Ltd    ICICIBANK      NSE                   Banks\n"
     ]
    }
   ],
   "source": [
    "# Check if the request was successful\n",
    "if response.status_code == 200:\n",
    "    # Convert the CSV content to a Pandas DataFrame\n",
    "    data = StringIO(response.text)\n",
    "    stock_data = pd.read_csv(data)\n",
    "    \n",
    "    # Display the first few rows of the data\n",
    "    print(stock_data.head())\n",
    "else:\n",
    "    print(f\"Failed to download the file, status code: {response.status_code}\")"
   ]
  },
  {
   "cell_type": "code",
   "execution_count": 21,
   "id": "9c03ca63-5502-4223-9e82-536b5ee46748",
   "metadata": {},
   "outputs": [],
   "source": [
    "stock_data.to_csv('Stock_list.csv', index=False)"
   ]
  },
  {
   "cell_type": "code",
   "execution_count": null,
   "id": "1fdc6f80-5e1e-4ed2-a517-ac86c724bc18",
   "metadata": {},
   "outputs": [],
   "source": []
  }
 ],
 "metadata": {
  "kernelspec": {
   "display_name": "Python 3 (ipykernel)",
   "language": "python",
   "name": "python3"
  },
  "language_info": {
   "codemirror_mode": {
    "name": "ipython",
    "version": 3
   },
   "file_extension": ".py",
   "mimetype": "text/x-python",
   "name": "python",
   "nbconvert_exporter": "python",
   "pygments_lexer": "ipython3",
   "version": "3.12.4"
  }
 },
 "nbformat": 4,
 "nbformat_minor": 5
}
